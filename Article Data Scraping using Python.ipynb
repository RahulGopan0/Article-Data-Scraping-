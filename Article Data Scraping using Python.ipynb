{
 "cells": [
  {
   "cell_type": "code",
   "execution_count": 5,
   "metadata": {},
   "outputs": [
    {
     "name": "stdout",
     "output_type": "stream",
     "text": [
      "Collecting newspaper3k\n",
      "  Using cached newspaper3k-0.2.8-py3-none-any.whl (211 kB)\n",
      "Requirement already satisfied: Pillow>=3.3.0 in c:\\users\\rocket-pc\\anaconda3\\lib\\site-packages (from newspaper3k) (7.0.0)\n",
      "Requirement already satisfied: PyYAML>=3.11 in c:\\users\\rocket-pc\\anaconda3\\lib\\site-packages (from newspaper3k) (5.3)\n",
      "Requirement already satisfied: cssselect>=0.9.2 in c:\\users\\rocket-pc\\anaconda3\\lib\\site-packages (from newspaper3k) (1.1.0)\n",
      "Processing c:\\users\\rocket-pc\\appdata\\local\\pip\\cache\\wheels\\df\\67\\41\\faca10fa501ca010be41b49d40360c2959e1c4f09bcbfa37fa\\tinysegmenter-0.3-py3-none-any.whl\n",
      "Requirement already satisfied: python-dateutil>=2.5.3 in c:\\users\\rocket-pc\\anaconda3\\lib\\site-packages (from newspaper3k) (2.8.1)\n",
      "Processing c:\\users\\rocket-pc\\appdata\\local\\pip\\cache\\wheels\\4a\\87\\a9\\ef99b7b68f9816d5ef1262dc11ce31a93a844eb69e68c1a031\\feedparser-5.2.1-py3-none-any.whl\n",
      "Collecting tldextract>=2.0.1\n",
      "  Using cached tldextract-2.2.3-py2.py3-none-any.whl (48 kB)\n",
      "Requirement already satisfied: lxml>=3.6.0 in c:\\users\\rocket-pc\\anaconda3\\lib\\site-packages (from newspaper3k) (4.5.0)\n",
      "Processing c:\\users\\rocket-pc\\appdata\\local\\pip\\cache\\wheels\\7f\\d4\\8f\\6e2ca54744c9d7292d88ddb8d42876bcdab5e6d84a21c10346\\feedfinder2-0.0.4-py3-none-any.whl\n",
      "Processing c:\\users\\rocket-pc\\appdata\\local\\pip\\cache\\wheels\\4c\\91\\46\\3c208287b726df325a5979574324878b679116e4baae1af3c3\\jieba3k-0.35.1-py3-none-any.whl\n",
      "Requirement already satisfied: nltk>=3.2.1 in c:\\users\\rocket-pc\\anaconda3\\lib\\site-packages (from newspaper3k) (3.4.5)\n",
      "Requirement already satisfied: beautifulsoup4>=4.4.1 in c:\\users\\rocket-pc\\anaconda3\\lib\\site-packages (from newspaper3k) (4.8.2)\n",
      "Requirement already satisfied: requests>=2.10.0 in c:\\users\\rocket-pc\\anaconda3\\lib\\site-packages (from newspaper3k) (2.22.0)\n",
      "Requirement already satisfied: six>=1.5 in c:\\users\\rocket-pc\\anaconda3\\lib\\site-packages (from python-dateutil>=2.5.3->newspaper3k) (1.14.0)\n",
      "Collecting requests-file>=1.4\n",
      "  Using cached requests_file-1.5.1-py2.py3-none-any.whl (3.7 kB)\n",
      "Requirement already satisfied: idna in c:\\users\\rocket-pc\\anaconda3\\lib\\site-packages (from tldextract>=2.0.1->newspaper3k) (2.8)\n",
      "Requirement already satisfied: soupsieve>=1.2 in c:\\users\\rocket-pc\\anaconda3\\lib\\site-packages (from beautifulsoup4>=4.4.1->newspaper3k) (1.9.5)\n",
      "Requirement already satisfied: urllib3!=1.25.0,!=1.25.1,<1.26,>=1.21.1 in c:\\users\\rocket-pc\\anaconda3\\lib\\site-packages (from requests>=2.10.0->newspaper3k) (1.25.8)\n",
      "Requirement already satisfied: chardet<3.1.0,>=3.0.2 in c:\\users\\rocket-pc\\anaconda3\\lib\\site-packages (from requests>=2.10.0->newspaper3k) (3.0.4)\n",
      "Requirement already satisfied: certifi>=2017.4.17 in c:\\users\\rocket-pc\\anaconda3\\lib\\site-packages (from requests>=2.10.0->newspaper3k) (2019.11.28)\n",
      "Installing collected packages: tinysegmenter, feedparser, requests-file, tldextract, feedfinder2, jieba3k, newspaper3k\n",
      "Successfully installed feedfinder2-0.0.4 feedparser-5.2.1 jieba3k-0.35.1 newspaper3k-0.2.8 requests-file-1.5.1 tinysegmenter-0.3 tldextract-2.2.3\n",
      "Note: you may need to restart the kernel to use updated packages.\n"
     ]
    }
   ],
   "source": [
    "pip install newspaper3k"
   ]
  },
  {
   "cell_type": "code",
   "execution_count": 3,
   "metadata": {},
   "outputs": [],
   "source": [
    "from newspaper import Article "
   ]
  },
  {
   "cell_type": "code",
   "execution_count": 4,
   "metadata": {},
   "outputs": [],
   "source": [
    "url = \"https://timesofindia.indiatimes.com/india/ncpcr-issues-notice-to-online-platforms-over-child-sexual-abuse-material/articleshow/75382041.cms\""
   ]
  },
  {
   "cell_type": "code",
   "execution_count": 5,
   "metadata": {},
   "outputs": [],
   "source": [
    "article_name = Article(url, language=\"en\")"
   ]
  },
  {
   "cell_type": "code",
   "execution_count": 6,
   "metadata": {},
   "outputs": [],
   "source": [
    "article_name.download()"
   ]
  },
  {
   "cell_type": "code",
   "execution_count": 7,
   "metadata": {},
   "outputs": [],
   "source": [
    "article_name.parse()"
   ]
  },
  {
   "cell_type": "code",
   "execution_count": 8,
   "metadata": {},
   "outputs": [],
   "source": [
    "import nltk"
   ]
  },
  {
   "cell_type": "code",
   "execution_count": 10,
   "metadata": {},
   "outputs": [
    {
     "name": "stderr",
     "output_type": "stream",
     "text": [
      "[nltk_data] Downloading package punkt to C:\\Users\\ROCKET-\n",
      "[nltk_data]     PC\\AppData\\Roaming\\nltk_data...\n",
      "[nltk_data]   Unzipping tokenizers\\punkt.zip.\n"
     ]
    },
    {
     "data": {
      "text/plain": [
       "True"
      ]
     },
     "execution_count": 10,
     "metadata": {},
     "output_type": "execute_result"
    }
   ],
   "source": [
    "nltk.download('punkt')"
   ]
  },
  {
   "cell_type": "code",
   "execution_count": 11,
   "metadata": {},
   "outputs": [],
   "source": [
    "article_name.nlp()"
   ]
  },
  {
   "cell_type": "code",
   "execution_count": 12,
   "metadata": {},
   "outputs": [
    {
     "data": {
      "text/plain": [
       "'This story is from April 25, 2020\\n\\nNEW DELHI: Taking a serious view of child sexual abuse material circulating online and of reports warning of spike in users accessing such content during lockdown, the national commission for protection of child rights has issued notices to Google, Twitter, WhatsApp and iOS, Apple India .\\n\\nThe commission has started an independent inquiry on availability of CSAM online. Based on evidence found so far, the NCPCR has given these online platforms time till April 30 to respond to the notice. The commission wants to know from them the policy followed by them to prevent CSAM on their platforms, the number of complaints received related to pornography and CSAM and what is their policy in dealing with such cases.\\n\\nThe NCPCR led by chairman Priyank Kanoongo has reported and forwarded the details of links, handles and other details where they found such abusive material to the Union home ministry’s cyber crime portal for action.\\n\\nIn its notices to all platforms, NCPCR cites a recent report by India Child Protection Fund that warns of a steep spike in those searching for child sexual abuse material (CSAM) online during the lockdown. The NCPCR then goes on to point out that the commission is now carrying out an independent inquiry.\\n\\n\"It is noticed during inquiry that pornographic material is accessible through the Apps available on Google Play Store. This is enabling accessibility of the children to such material. There is also possibility that the CSAM is also available on these Apps,\" it is stated in the notice to Google India .\\n\\nIn the notice to Apple India iOS, it is stated that the commission noticed that CSAM and pornographic material is rampant and easily accessible through Apps available on iOS.\\n\\nDuring inquiry it was also noticed that there are encrypted WhatsApp groups and the CSAM is rampantly present in these groups. \"The links to these groups were found to be propagated by various handles on Twitter. The commission is of the view that propagating links of these WhatsApp groups on Twitter handles is a serious matter,\" NCPCR states in its notice to WhatsApp India.\\n\\nIn the notice to Twitter India , NCPCR states, \"it is seen that as per your standard terms and conditions, a person of 13 years and above is eligible to open an account on Twitter. If you are allowing children at the age of 13 to open an account, the commission is of the view that you can’t allow the other users to publish, propagate pornographic material, links etc. on Twitter.\"\\n\\n'"
      ]
     },
     "execution_count": 12,
     "metadata": {},
     "output_type": "execute_result"
    }
   ],
   "source": [
    "article_name.text"
   ]
  },
  {
   "cell_type": "code",
   "execution_count": 13,
   "metadata": {},
   "outputs": [
    {
     "data": {
      "text/plain": [
       "'NCPCR issues notice to online platforms over child sexual abuse material'"
      ]
     },
     "execution_count": 13,
     "metadata": {},
     "output_type": "execute_result"
    }
   ],
   "source": [
    "article_name.title"
   ]
  },
  {
   "cell_type": "code",
   "execution_count": 14,
   "metadata": {},
   "outputs": [
    {
     "data": {
      "text/plain": [
       "'The commission has started an independent inquiry on availability of CSAM online.\\nBased on evidence found so far, the NCPCR has given these online platforms time till April 30 to respond to the notice.\\nIn its notices to all platforms, NCPCR cites a recent report by India Child Protection Fund that warns of a steep spike in those searching for child sexual abuse material (CSAM) online during the lockdown.\\nThe commission is of the view that propagating links of these WhatsApp groups on Twitter handles is a serious matter,\" NCPCR states in its notice to WhatsApp India.\\nIn the notice to Twitter India , NCPCR states, \"it is seen that as per your standard terms and conditions, a person of 13 years and above is eligible to open an account on Twitter.'"
      ]
     },
     "execution_count": 14,
     "metadata": {},
     "output_type": "execute_result"
    }
   ],
   "source": [
    "article_name.summary"
   ]
  },
  {
   "cell_type": "code",
   "execution_count": 15,
   "metadata": {},
   "outputs": [
    {
     "data": {
      "text/plain": [
       "['whatsapp',\n",
       " 'material',\n",
       " 'links',\n",
       " 'issues',\n",
       " 'india',\n",
       " 'ncpcr',\n",
       " 'abuse',\n",
       " 'online',\n",
       " 'commission',\n",
       " 'platforms',\n",
       " 'sexual',\n",
       " 'child',\n",
       " 'notice',\n",
       " 'csam',\n",
       " 'twitter']"
      ]
     },
     "execution_count": 15,
     "metadata": {},
     "output_type": "execute_result"
    }
   ],
   "source": [
    "article_name.keywords"
   ]
  },
  {
   "cell_type": "code",
   "execution_count": null,
   "metadata": {},
   "outputs": [],
   "source": []
  }
 ],
 "metadata": {
  "kernelspec": {
   "display_name": "Python 3",
   "language": "python",
   "name": "python3"
  },
  "language_info": {
   "codemirror_mode": {
    "name": "ipython",
    "version": 3
   },
   "file_extension": ".py",
   "mimetype": "text/x-python",
   "name": "python",
   "nbconvert_exporter": "python",
   "pygments_lexer": "ipython3",
   "version": "3.7.6"
  }
 },
 "nbformat": 4,
 "nbformat_minor": 4
}
